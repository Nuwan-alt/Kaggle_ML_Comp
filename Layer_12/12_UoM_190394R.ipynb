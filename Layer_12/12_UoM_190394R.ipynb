{
  "cells": [
    {
      "cell_type": "code",
      "execution_count": null,
      "metadata": {},
      "outputs": [],
      "source": [
        "import warnings\n",
        "\n",
        "# Suppress the FutureWarnings related to is_sparse\n",
        "warnings.filterwarnings(\"ignore\", category=FutureWarning)"
      ]
    },
    {
      "cell_type": "code",
      "execution_count": null,
      "metadata": {
        "id": "yX4ZkcujzW_9"
      },
      "outputs": [],
      "source": [
        "import pandas as pd\n",
        "import numpy as np\n",
        "\n",
        "# Labes\n",
        "L1 = 'label_1'\n",
        "L2 = 'label_2'\n",
        "L3 = 'label_3'\n",
        "L4 = 'label_4'\n",
        "\n",
        "LABELS = [L1,L2,L3,L4]\n",
        "# Features\n",
        "FEATURES = [f\"feature_{i}\" for i in range (1,769)]"
      ]
    },
    {
      "cell_type": "code",
      "execution_count": null,
      "metadata": {
        "id": "5lMHvI9a1icM"
      },
      "outputs": [],
      "source": [
        "train_df = pd.read_csv(\"train.csv\")\n",
        "valid_df = pd.read_csv(\"valid.csv\")\n",
        "test_df = pd.read_csv(\"test.csv\")"
      ]
    },
    {
      "cell_type": "code",
      "execution_count": null,
      "metadata": {
        "colab": {
          "base_uri": "https://localhost:8080/"
        },
        "id": "V_11nDyh1joE",
        "outputId": "2aa849f0-96bf-40bd-86b2-1a7e79c4d345"
      },
      "outputs": [],
      "source": [
        "print(f\"train{train_df.shape},val{valid_df.shape},test{test_df.shape}\")"
      ]
    },
    {
      "cell_type": "code",
      "execution_count": null,
      "metadata": {
        "id": "ZAH1AlcG1lg6"
      },
      "outputs": [],
      "source": [
        "from sklearn.linear_model import LinearRegression\n",
        "import matplotlib.pyplot as plt\n",
        "import seaborn as sns"
      ]
    },
    {
      "cell_type": "code",
      "execution_count": null,
      "metadata": {
        "colab": {
          "base_uri": "https://localhost:8080/",
          "height": 1000
        },
        "id": "6JZmRHlc1nPu",
        "outputId": "c62761ee-0ba5-4cc8-97c2-a185c6b6020b"
      },
      "outputs": [],
      "source": [
        "# Create subplots for each label\n",
        "fig, axs = plt.subplots(2, 2, figsize=(14, 10))\n",
        "\n",
        "for idx, label in enumerate(LABELS):\n",
        "    ax = axs[idx // 2, idx % 2]  # Determines the position of the subplot\n",
        "\n",
        "    # For label_2 (Age), specify the age range you want to visualize\n",
        "    if label == L2:\n",
        "        age_range = (0, 100)  # Adjust the range as needed\n",
        "        filtered_df = train_df[(train_df[label] >= age_range[0]) & (train_df[label] <= age_range[1])]\n",
        "        ax.hist(filtered_df[label], bins=20, range=age_range, edgecolor='k', color='green')\n",
        "        ax.set_title(f'Distribution of {label} in the Range {age_range[0]} - {age_range[1]}')\n",
        "        ax.set_xlabel(label)\n",
        "        ax.set_ylabel('Count')\n",
        "        ax.set_xticks(range(age_range[0], age_range[1] + 1, 5))  # Adjust the x-axis ticks as needed\n",
        "        ax.grid(axis='y', linestyle='--', alpha=0.7)\n",
        "    else:\n",
        "        sns.countplot(x=label, data=train_df, ax=ax, color='green')  # Set the color to green\n",
        "        ax.set_title(f'Distribution of {label}')\n",
        "        ax.set_ylabel('Count')\n",
        "        ax.set_xlabel(label)\n",
        "\n",
        "plt.tight_layout()\n",
        "plt.show()"
      ]
    },
    {
      "cell_type": "code",
      "execution_count": null,
      "metadata": {
        "colab": {
          "base_uri": "https://localhost:8080/"
        },
        "id": "rsVw5Xut1tCd",
        "outputId": "4cea28b3-8486-4662-eaa3-1dcfc67d0ef8"
      },
      "outputs": [],
      "source": [
        "train_df[L2]"
      ]
    },
    {
      "cell_type": "code",
      "execution_count": null,
      "metadata": {
        "id": "dmKaJdzt1tt5"
      },
      "outputs": [],
      "source": [
        "from sklearn.preprocessing import StandardScaler\n",
        "x_train = {}\n",
        "x_valid = {}\n",
        "y_train = {}\n",
        "y_valid = {}\n",
        "x_test = {}"
      ]
    },
    {
      "cell_type": "code",
      "execution_count": null,
      "metadata": {
        "id": "wE8mS_Gx11UH"
      },
      "outputs": [],
      "source": [
        "# Scaler the data\n",
        "for target_label in LABELS:\n",
        "\n",
        "  # Dropping missing values\n",
        "  tr_df = train_df[train_df['label_2'].notna()] if target_label == 'label_2' else train_df\n",
        "  vl_df = valid_df[valid_df['label_2'].notna()] if target_label == 'label_2' else valid_df\n",
        "\n",
        "  scaler = StandardScaler()\n",
        "\n",
        "  x_train[target_label] = pd.DataFrame(scaler.fit_transform(tr_df.drop(LABELS, axis = 1)), columns=FEATURES)\n",
        "  y_train[target_label] = tr_df[target_label]\n",
        "\n",
        "  x_valid[target_label] = pd.DataFrame(scaler.transform(vl_df.drop(LABELS, axis = 1)), columns=FEATURES)\n",
        "  y_valid[target_label] = vl_df[target_label]\n",
        "\n",
        "  # x_test[target_label] = pd.DataFrame(scaler.transform(test_df.drop(LABELS, axis = 1)), columns=FEATURES)"
      ]
    },
    {
      "cell_type": "code",
      "execution_count": null,
      "metadata": {
        "colab": {
          "base_uri": "https://localhost:8080/"
        },
        "id": "7RhfWWOq145z",
        "outputId": "7dff4712-2acf-40bd-d52b-c8412e660ffe"
      },
      "outputs": [],
      "source": [
        "print(f\"train-L1 {len(x_train['label_1'])},val-L1 {len(x_valid['label_1'])}\")\n",
        "print(f\"train-L2 {len(x_train['label_2'])},val-L2 {len(x_valid['label_2'])}\")\n",
        "print(f\"train-L3 {len(x_train['label_3'])},val-L3 {len(x_valid['label_3'])}\")\n",
        "print(f\"train-L4 {len(x_train['label_4'])},val-L4 {len(x_valid['label_4'])}\")"
      ]
    },
    {
      "cell_type": "code",
      "execution_count": null,
      "metadata": {},
      "outputs": [],
      "source": [
        "x_test = pd.DataFrame(scaler.transform(test_df.drop('ID', axis = 1)), columns=FEATURES)\n",
        "id_test = test_df['ID']"
      ]
    },
    {
      "cell_type": "code",
      "execution_count": null,
      "metadata": {},
      "outputs": [],
      "source": [
        "from sklearn.model_selection import cross_val_score, KFold\n",
        "from sklearn.neighbors import KNeighborsClassifier\n",
        "from sklearn import svm\n",
        "from sklearn.naive_bayes import MultinomialNB\n",
        "from sklearn.ensemble import RandomForestClassifier\n",
        "import xgboost as xgb\n",
        "from sklearn import metrics"
      ]
    },
    {
      "cell_type": "markdown",
      "metadata": {},
      "source": [
        "### Cross Validation Function"
      ]
    },
    {
      "cell_type": "code",
      "execution_count": null,
      "metadata": {},
      "outputs": [],
      "source": [
        "import xgboost as xgb\n",
        "from sklearn.preprocessing import LabelEncoder\n",
        "import numpy as np\n",
        "\n",
        "def k_fold_cross_validation(model, X, y, k=5):\n",
        "    if model == 'svc':\n",
        "        classifier = svm.SVC()\n",
        "    elif model == 'kNN':\n",
        "        classifier = KNeighborsClassifier(n_neighbors=k)\n",
        "    elif model == 'NBay':\n",
        "        classifier = MultinomialNB()\n",
        "    elif model == 'RF':\n",
        "        classifier = RandomForestClassifier(n_estimators=100, max_depth=2, random_state=0)\n",
        "    elif model == 'xgb':\n",
        "        # Encode class labels to start from 0 and be consecutive integers\n",
        "        label_encoder = LabelEncoder()\n",
        "        y = label_encoder.fit_transform(y)\n",
        "\n",
        "        classifier = xgb.XGBClassifier(\n",
        "            n_estimators=100,             # Number of boosting rounds (you can tune this)\n",
        "            max_depth=3,                  # Maximum depth of each tree (you can tune this)\n",
        "            learning_rate=0.1,            # Learning rate (you can tune this)\n",
        "            random_state=42               # Random seed for reproducibility\n",
        "        )\n",
        "\n",
        "    # Create a KFold cross-validation object\n",
        "    kf = KFold(n_splits=k, shuffle=True, random_state=42)\n",
        "\n",
        "    # Convert pandas DataFrames to NumPy arrays\n",
        "    X = X.values\n",
        "    y = y.ravel()  # Ensure y is one-dimensional\n",
        "\n",
        "    # Perform k-fold cross-validation\n",
        "    scores = []\n",
        "    for fold, (train_idx, test_idx) in enumerate(kf.split(X)):\n",
        "        X_train_fold, X_test_fold = X[train_idx], X[test_idx]\n",
        "        y_train_fold, y_test_fold = y[train_idx], y[test_idx]\n",
        "\n",
        "        # Ensure X_train_fold and X_test_fold are non-negative\n",
        "        X_train_fold = np.maximum(X_train_fold, 0)\n",
        "        X_test_fold = np.maximum(X_test_fold, 0)\n",
        "\n",
        "        # Fit the classifier on the training fold\n",
        "        classifier.fit(X_train_fold, y_train_fold)\n",
        "\n",
        "        # Evaluate the classifier on the test fold\n",
        "        fold_score = classifier.score(X_test_fold, y_test_fold)\n",
        "        scores.append(fold_score)\n",
        "\n",
        "        print(f\"{model} - Fold {fold + 1}/{k}: Score = {fold_score:.4f}\")\n",
        "\n",
        "    print(f\"{model} - Average Score: {np.mean(scores):.4f}\")\n",
        "\n",
        "# Example usage:\n",
        "# k_fold_cross_validation('xgb', x_train_trans_L1, y_train[L1])\n"
      ]
    },
    {
      "cell_type": "code",
      "execution_count": null,
      "metadata": {},
      "outputs": [],
      "source": [
        "from sklearn.decomposition import PCA\n",
        "from sklearn.model_selection import RandomizedSearchCV, KFold"
      ]
    },
    {
      "cell_type": "markdown",
      "metadata": {
        "id": "LPBXtNBu2LLf"
      },
      "source": [
        "# Label_01\n",
        "0.97 - svm\n"
      ]
    },
    {
      "cell_type": "code",
      "execution_count": null,
      "metadata": {
        "colab": {
          "base_uri": "https://localhost:8080/",
          "height": 255
        },
        "id": "W6yzEU1o2QcW",
        "outputId": "d42c1940-f479-400a-fd71-ea975b09b871"
      },
      "outputs": [],
      "source": [
        "x_train[L1].head()"
      ]
    },
    {
      "cell_type": "code",
      "execution_count": null,
      "metadata": {
        "id": "VUgNMLBV2Ub4"
      },
      "outputs": [],
      "source": [
        "# clf = svm.SVC( class_weight='balanced')\n",
        "# clf.fit(x_train[L1], y_train[L1])\n",
        "# y_pred = clf.predict(x_valid[L1])"
      ]
    },
    {
      "cell_type": "code",
      "execution_count": null,
      "metadata": {
        "colab": {
          "base_uri": "https://localhost:8080/"
        },
        "id": "Wki_nCtT2ZUi",
        "outputId": "9160af53-9990-4a11-e8f0-c159955d732a"
      },
      "outputs": [],
      "source": [
        "# print(\"========================= Acuuracy Before Feature Selection Label 1 =========================\")\n",
        "# print(f\"Accuracy: {metrics.accuracy_score(y_valid[L1], y_pred)}\")\n",
        "# print(f\"Precision: {metrics.precision_score(y_valid[L1], y_pred, average='weighted')}\")\n",
        "# print(f\"Recall: {metrics.recall_score(y_valid[L1], y_pred,average='weighted')}\")"
      ]
    },
    {
      "cell_type": "markdown",
      "metadata": {
        "id": "v1Q05EZvpltU"
      },
      "source": [
        "## Feature Selection + Model Selection"
      ]
    },
    {
      "cell_type": "code",
      "execution_count": null,
      "metadata": {},
      "outputs": [],
      "source": [
        "pca = PCA(n_components = 0.97, svd_solver ='full')\n",
        "pca.fit(x_train[L1])\n",
        "x_train_trans_L1 = pd.DataFrame(pca.transform(x_train[L1]))\n",
        "x_valid_trans_L1 = pd.DataFrame(pca.transform(x_valid[L1]))\n",
        "x_test_trans_L1 = pd.DataFrame(pca.transform(x_test))"
      ]
    },
    {
      "cell_type": "code",
      "execution_count": null,
      "metadata": {},
      "outputs": [],
      "source": [
        "x_train_trans_L1.shape"
      ]
    },
    {
      "cell_type": "code",
      "execution_count": null,
      "metadata": {},
      "outputs": [],
      "source": [
        "# k_fold_cross_validation('svc', x_train_trans_L1, y_train[L1])\n",
        "# k_fold_cross_validation('kNN',x_train_trans_L1, y_train[L1])\n",
        "# k_fold_cross_validation('NBay',x_train_trans_L1, y_train[L1])\n",
        "# k_fold_cross_validation('RF',x_train_trans_L1, y_train[L1])"
      ]
    },
    {
      "cell_type": "code",
      "execution_count": null,
      "metadata": {
        "id": "B-NVfTkMFCQf"
      },
      "outputs": [],
      "source": [
        "# clf = svm.SVC(class_weight='balanced')\n",
        "# clf.fit(x_train_trans_L1, y_train[L1])\n",
        "# y_pred_L1 = clf.predict(x_valid_trans_L1 )\n"
      ]
    },
    {
      "cell_type": "code",
      "execution_count": null,
      "metadata": {
        "colab": {
          "base_uri": "https://localhost:8080/"
        },
        "id": "8Mb_LMvqFJoQ",
        "outputId": "911e7fc1-e91c-45e7-f73e-eb1e96813ddc"
      },
      "outputs": [],
      "source": [
        "# print(\"========================= Acuuracy Before Hyper Parameter Tune Label 1 =========================\")\n",
        "# print(f\"Accuracy: {metrics.accuracy_score(y_valid[L1], y_pred_L1)}\")\n",
        "# print(f\"Precision: {metrics.precision_score(y_valid[L1], y_pred_L1, average='weighted')}\")\n",
        "# print(f\"Recall: {metrics.recall_score(y_valid[L1], y_pred_L1,average='weighted')}\")"
      ]
    },
    {
      "cell_type": "markdown",
      "metadata": {
        "id": "tIaFV2kDFOTY"
      },
      "source": [
        "## Hyper Parameter Tuning"
      ]
    },
    {
      "cell_type": "code",
      "execution_count": null,
      "metadata": {
        "colab": {
          "base_uri": "https://localhost:8080/"
        },
        "id": "ilUnfgGrFSwq",
        "outputId": "48785422-e3e4-4298-a8dc-c03b1851af46"
      },
      "outputs": [],
      "source": [
        "# Define the parameter grid for hyperparameter search\n",
        "param_dist = {\n",
        "    'C': [0.1,1,10],  # Regularization parameter\n",
        "    'kernel': ['linear', 'rbf', 'poly'],  # Kernel type\n",
        "    'degree': [1,2] , # Degree of the polynomial kernel\n",
        "    'gamma': [0.001, 0.1,1]  # Kernel coefficient\n",
        "}\n",
        "\n",
        "k = 4  # Number of folds\n",
        "kf = KFold(n_splits=k, shuffle=True, random_state=42)\n",
        "\n",
        "# Create an SVC classifier\n",
        "clf = svm.SVC()\n",
        "\n",
        "# Create the RandomizedSearchCV object\n",
        "random_search = RandomizedSearchCV(\n",
        "    estimator=clf,\n",
        "    param_distributions=param_dist,\n",
        "    n_iter=3,  # Number of random parameter combinations to try\n",
        "    cv=kf,  # Number of cross-validation folds\n",
        "    random_state=42,  # Set a random seed for reproducibility\n",
        "    n_jobs=-1,  # Use all available CPU cores\n",
        "    verbose=2\n",
        ")\n",
        "\n",
        "# Fit the RandomizedSearchCV to the data\n",
        "random_search.fit(x_train_trans_L1, y_train[L1])\n",
        "\n",
        "# Get the best estimator and its parameters\n",
        "best_estimator = random_search.best_estimator_\n",
        "best_params = random_search.best_params_\n",
        "\n",
        "print(\"Best Parameters:\", best_params)\n",
        "\n",
        "# Now you can use the best_estimator for predictions\n",
        "y_new_trans = best_estimator.predict(x_valid_trans_L1)"
      ]
    },
    {
      "cell_type": "code",
      "execution_count": null,
      "metadata": {},
      "outputs": [],
      "source": [
        "y_test_L1 = best_estimator.predict(x_test_trans_L1)"
      ]
    },
    {
      "cell_type": "code",
      "execution_count": null,
      "metadata": {
        "colab": {
          "base_uri": "https://localhost:8080/"
        },
        "id": "pSJa89OBFXIN",
        "outputId": "cc67ae9b-51ea-4b74-b805-0cac54c8e104"
      },
      "outputs": [],
      "source": [
        "print(\"========================= Acuuracy After k fold Cross Validation and Hyper Parameter Tuning Label 1 =========================\")\n",
        "print(f\"Accuracy: {metrics.accuracy_score(y_valid[L1], y_new_trans)}\")\n",
        "print(f\"Precision: {metrics.precision_score(y_valid[L1], y_new_trans, average='weighted')}\")\n",
        "print(f\"Recall: {metrics.recall_score(y_valid[L1], y_new_trans,average='weighted')}\")"
      ]
    },
    {
      "cell_type": "code",
      "execution_count": null,
      "metadata": {
        "id": "y6dVkWklys2c"
      },
      "outputs": [],
      "source": [
        "# k_fold_cross_validation('svc', x_train_trans_L1, y_train[L1])\n",
        "# k_fold_cross_validation('kNN', x_train_trans_L1, y_train[L1])"
      ]
    },
    {
      "cell_type": "markdown",
      "metadata": {
        "id": "SfWvvfop2SLZ"
      },
      "source": [
        "# Label_2\n",
        "0.98 - kNN"
      ]
    },
    {
      "cell_type": "code",
      "execution_count": null,
      "metadata": {
        "id": "MM3cfqJWw7I3"
      },
      "outputs": [],
      "source": [
        "# clf = svm.SVC(class_weight='balanced')\n",
        "# clf.fit(x_train[L2], y_train[L2])\n",
        "# y_pred_L2 = clf.predict(x_valid[L2])"
      ]
    },
    {
      "cell_type": "code",
      "execution_count": null,
      "metadata": {
        "id": "NKlx2Uzuw-zl"
      },
      "outputs": [],
      "source": [
        "# print(\"========================= Acuuracy Before Feature Selection Label 2 =========================\")\n",
        "# print(f\"Accuracy: {metrics.accuracy_score(y_valid[L2], y_pred_L2)}\")\n",
        "# print(f\"Precision: {metrics.precision_score(y_valid[L2], y_pred_L2, average='weighted')}\")\n",
        "# print(f\"Recall: {metrics.recall_score(y_valid[L2], y_pred_L2,average='weighted')}\")"
      ]
    },
    {
      "cell_type": "markdown",
      "metadata": {
        "id": "DLchrBh9xBJH"
      },
      "source": [
        "## Feature Selection + Model Selection"
      ]
    },
    {
      "cell_type": "code",
      "execution_count": null,
      "metadata": {},
      "outputs": [],
      "source": [
        "pca = PCA(n_components = 0.98, svd_solver ='full')\n",
        "pca.fit(x_train[L2])\n",
        "x_train_trans_L2 = pd.DataFrame(pca.transform(x_train[L2]))\n",
        "x_valid_trans_L2 = pd.DataFrame(pca.transform(x_valid[L2]))\n",
        "x_test_trans_L2 = pd.DataFrame(pca.transform(x_test))"
      ]
    },
    {
      "cell_type": "code",
      "execution_count": null,
      "metadata": {},
      "outputs": [],
      "source": [
        "x_train_trans_L2.shape"
      ]
    },
    {
      "cell_type": "code",
      "execution_count": null,
      "metadata": {},
      "outputs": [],
      "source": [
        "# k_fold_cross_validation('svc', x_train_trans_L2, y_train[L2])\n",
        "# k_fold_cross_validation('kNN',x_train_trans_L2, y_train[L2])\n",
        "# k_fold_cross_validation('NBay',x_train_trans_L2, y_train[L2])\n",
        "# k_fold_cross_validation('RF',x_train_trans_L2, y_train[L2])"
      ]
    },
    {
      "cell_type": "code",
      "execution_count": null,
      "metadata": {
        "id": "JuAfonvmxM06"
      },
      "outputs": [],
      "source": [
        "# clf = svm.SVC(class_weight='balanced')\n",
        "# clf.fit(x_train_trans_L2, y_train[L2])\n",
        "# y_pred_L2 = clf.predict(x_valid_trans_L2)\n"
      ]
    },
    {
      "cell_type": "code",
      "execution_count": null,
      "metadata": {
        "id": "OgKcoiRb2a_K"
      },
      "outputs": [],
      "source": [
        "# print(\"========================= Acuuracy Before Hyper Parameter Tune Label 2 =========================\")\n",
        "# print(f\"Accuracy: {metrics.accuracy_score(y_valid[L2], y_pred_L2)}\")\n",
        "# print(f\"Precision: {metrics.precision_score(y_valid[L2], y_pred_L2, average='weighted')}\")\n",
        "# print(f\"Recall: {metrics.recall_score(y_valid[L2], y_pred_L2,average='weighted')}\")"
      ]
    },
    {
      "cell_type": "markdown",
      "metadata": {
        "id": "pW2FAQ38xWtr"
      },
      "source": [
        "## Hyper Parameter Tuning"
      ]
    },
    {
      "cell_type": "code",
      "execution_count": null,
      "metadata": {
        "id": "uBLSsbfZxao2"
      },
      "outputs": [],
      "source": [
        "# Define the kNN classifier\n",
        "knn = KNeighborsClassifier()\n",
        "\n",
        "# Define a random search space for hyperparameters\n",
        "param_dist = {\n",
        "    'n_neighbors': list(range(1, 31)),   # Number of neighbors to consider\n",
        "    'weights': ['uniform', 'distance'],  # Weighting scheme for neighbors\n",
        "    'p': [1, 2],                        # Minkowski distance parameter (1 for Manhattan, 2 for Euclidean)\n",
        "    'algorithm': ['auto', 'ball_tree', 'kd_tree', 'brute'],  # Algorithm for nearest neighbors\n",
        "}\n",
        "\n",
        "# Create a RandomizedSearchCV object\n",
        "random_search = RandomizedSearchCV(estimator=knn, param_distributions=param_dist, n_iter=10, cv=5, scoring='accuracy', n_jobs=-1, random_state=42)\n",
        "\n",
        "# Perform the random search on the training data\n",
        "random_search.fit(x_train_trans_L2, y_train[L2])\n",
        "\n",
        "# Print the best hyperparameters and the corresponding accuracy score\n",
        "print(\"Best Hyperparameters:\", random_search.best_params_)\n",
        "print(\"Best Accuracy Score:\", random_search.best_score_)\n",
        "\n",
        "# Get the best model with the best hyperparameters\n",
        "best_knn = random_search.best_estimator_"
      ]
    },
    {
      "cell_type": "code",
      "execution_count": null,
      "metadata": {},
      "outputs": [],
      "source": [
        "y_test_L2 = best_knn.predict(x_test_trans_L2)"
      ]
    },
    {
      "cell_type": "code",
      "execution_count": null,
      "metadata": {
        "id": "6HvrWUKixf1E"
      },
      "outputs": [],
      "source": [
        "# print(\"========================= Acuuracy After k fold Cross Validation and Hyper Parameter Tuning Label 2 =========================\")\n",
        "# print(f\"Accuracy: {metrics.accuracy_score(y_valid[L2], y_new_trans_L2)}\")\n",
        "# print(f\"Precision: {metrics.precision_score(y_valid[L2], y_new_trans_L2, average='weighted')}\")\n",
        "# print(f\"Recall: {metrics.recall_score(y_valid[L2], y_new_trans_L2,average='weighted')}\")"
      ]
    },
    {
      "cell_type": "markdown",
      "metadata": {
        "id": "oM3U7BfLxjuD"
      },
      "source": [
        "# Label_03\n",
        "0.95 - svm"
      ]
    },
    {
      "cell_type": "code",
      "execution_count": null,
      "metadata": {
        "id": "6drLc2v5xmQe"
      },
      "outputs": [],
      "source": [
        "clf = svm.SVC(class_weight='balanced')\n",
        "clf.fit(x_train[L3], y_train[L3])\n",
        "y_pred_L3 = clf.predict(x_valid[L3])"
      ]
    },
    {
      "cell_type": "code",
      "execution_count": null,
      "metadata": {
        "id": "AGZuodzDxpst"
      },
      "outputs": [],
      "source": [
        "print(\"========================= Acuuracy Before Feature Selection Label 3 =========================\")\n",
        "print(f\"Accuracy: {metrics.accuracy_score(y_valid[L3], y_pred_L3)}\")\n",
        "print(f\"Precision: {metrics.precision_score(y_valid[L3], y_pred_L3, average='weighted')}\")\n",
        "print(f\"Recall: {metrics.recall_score(y_valid[L3], y_pred_L3,average='weighted')}\")"
      ]
    },
    {
      "cell_type": "markdown",
      "metadata": {
        "id": "cQaIa2TXxtLW"
      },
      "source": [
        "## Feature Selection + Model Selection"
      ]
    },
    {
      "cell_type": "code",
      "execution_count": null,
      "metadata": {
        "id": "iTKOR5rFxrwJ"
      },
      "outputs": [],
      "source": [
        "pca = PCA(n_components = 0.95, svd_solver ='full')\n",
        "pca.fit(x_train[L3])\n",
        "x_train_trans_L3 = pd.DataFrame(pca.transform(x_train[L3]))\n",
        "x_valid_trans_L3 = pd.DataFrame(pca.transform(x_valid[L3]))\n",
        "x_test_trans_L3 = pd.DataFrame(pca.transform(x_test))"
      ]
    },
    {
      "cell_type": "code",
      "execution_count": null,
      "metadata": {},
      "outputs": [],
      "source": [
        "x_train_trans_L3.shape"
      ]
    },
    {
      "cell_type": "code",
      "execution_count": null,
      "metadata": {},
      "outputs": [],
      "source": [
        "# k_fold_cross_validation('svc', x_train_trans_L3, y_train[L3])\n",
        "# k_fold_cross_validation('kNN',x_train_trans_L3, y_train[L3])\n",
        "# k_fold_cross_validation('NBay',x_train_trans_L3, y_train[L3])\n",
        "# k_fold_cross_validation('RF',x_train_trans_L3, y_train[L3])"
      ]
    },
    {
      "cell_type": "code",
      "execution_count": null,
      "metadata": {},
      "outputs": [],
      "source": [
        "x_train_trans_L3.shape"
      ]
    },
    {
      "cell_type": "code",
      "execution_count": null,
      "metadata": {
        "id": "7TND0wLox1Z1"
      },
      "outputs": [],
      "source": [
        "# clf = svm.SVC(class_weight='balanced')\n",
        "# clf.fit(x_train_trans_L3, y_train[L3])\n",
        "# y_pred_L3 = clf.predict(x_valid_trans_L3)\n"
      ]
    },
    {
      "cell_type": "code",
      "execution_count": null,
      "metadata": {
        "id": "5fUxZyDzx3qt"
      },
      "outputs": [],
      "source": [
        "# print(\"========================= Acuuracy Before Hyper Parameter Tune Label 3 =========================\")\n",
        "# print(f\"Accuracy: {metrics.accuracy_score(y_valid[L3], y_pred_L3)}\")\n",
        "# print(f\"Precision: {metrics.precision_score(y_valid[L3], y_pred_L3, average='weighted')}\")\n",
        "# print(f\"Recall: {metrics.recall_score(y_valid[L3], y_pred_L3,average='weighted')}\")"
      ]
    },
    {
      "cell_type": "markdown",
      "metadata": {
        "id": "2ddFCa3Qx7Ce"
      },
      "source": [
        "## Hyper Parameter Tuning"
      ]
    },
    {
      "cell_type": "code",
      "execution_count": null,
      "metadata": {
        "id": "G5sJUv8wx5zo"
      },
      "outputs": [],
      "source": [
        "# Define the parameter grid for hyperparameter search\n",
        "param_dist = {\n",
        "    'C': [0.1,1,10],  # Regularization parameter\n",
        "    'kernel': [ 'linear','rbf', 'poly'],  # Kernel type\n",
        "    'degree': [1,2] , # Degree of the polynomial kernel\n",
        "    'gamma': [0.001, 0.1,1]  # Kernel coefficient\n",
        "}\n",
        "\n",
        "k = 5  # Number of folds\n",
        "kf = KFold(n_splits=k, shuffle=True, random_state=42)\n",
        "\n",
        "# Create an SVC classifier\n",
        "clf = svm.SVC()\n",
        "\n",
        "# Create the RandomizedSearchCV object\n",
        "random_search = RandomizedSearchCV(\n",
        "    estimator=clf,\n",
        "    param_distributions=param_dist,\n",
        "    n_iter=3,  # Number of random parameter combinations to try\n",
        "    cv=kf,  # Number of cross-validation folds\n",
        "    random_state=42,  # Set a random seed for reproducibility\n",
        "    n_jobs=-1,  # Use all available CPU cores\n",
        "    verbose=2\n",
        ")\n",
        "\n",
        "# Fit the RandomizedSearchCV to the data\n",
        "random_search.fit(x_train_trans_L3, y_train[L3])\n",
        "\n",
        "# Get the best estimator and its parameters\n",
        "best_estimator = random_search.best_estimator_\n",
        "best_params = random_search.best_params_\n",
        "\n",
        "print(\"Best Parameters:\", best_params)\n",
        "\n",
        "# Now you can use the best_estimator for predictions\n",
        "y_new_trans_L3 = best_estimator.predict(x_valid_trans_L3)"
      ]
    },
    {
      "cell_type": "code",
      "execution_count": null,
      "metadata": {},
      "outputs": [],
      "source": [
        "y_test_L3 = best_estimator.predict(x_test_trans_L3)"
      ]
    },
    {
      "cell_type": "code",
      "execution_count": null,
      "metadata": {
        "id": "bsOxvEnxyBMt"
      },
      "outputs": [],
      "source": [
        "print(\"========================= Acuuracy After k fold Cross Validation and Hyper Parameter Tuning Label 3 =========================\")\n",
        "print(f\"Accuracy: {metrics.accuracy_score(y_valid[L3], y_new_trans_L3)}\")\n",
        "print(f\"Precision: {metrics.precision_score(y_valid[L3], y_new_trans_L3, average='weighted')}\")\n",
        "print(f\"Recall: {metrics.recall_score(y_valid[L3], y_new_trans_L3,average='weighted')}\")"
      ]
    },
    {
      "cell_type": "markdown",
      "metadata": {
        "id": "A1GZhQjOyDhz"
      },
      "source": [
        "# Label_04\n",
        "0.97 - kNN"
      ]
    },
    {
      "cell_type": "code",
      "execution_count": null,
      "metadata": {
        "id": "apS10qiFyF4i"
      },
      "outputs": [],
      "source": [
        "from sklearn.model_selection import cross_val_score, KFold\n",
        "from sklearn.neighbors import KNeighborsClassifier\n",
        "# pip install -U imbalanced-learn"
      ]
    },
    {
      "cell_type": "code",
      "execution_count": null,
      "metadata": {
        "id": "e2tqqnNLyIkl"
      },
      "outputs": [],
      "source": [
        "y_train[L4]"
      ]
    },
    {
      "cell_type": "code",
      "execution_count": null,
      "metadata": {
        "id": "tfUE0XfDyKvS"
      },
      "outputs": [],
      "source": [
        "# clf = svm.SVC()\n",
        "# clf.fit(x_train[L4], y_train[L4])\n",
        "# y_pred_L4 = clf.predict(x_valid[L4])"
      ]
    },
    {
      "cell_type": "code",
      "execution_count": null,
      "metadata": {
        "id": "Y2HyfgEKyW6q"
      },
      "outputs": [],
      "source": [
        "# print(\"========================= Acuuracy Before Feature Selection Label 3 =========================\")\n",
        "# print(f\"Accuracy: {metrics.accuracy_score(y_valid[L4], y_pred_L4)}\")\n",
        "# print(f\"Precision: {metrics.precision_score(y_valid[L4], y_pred_L4, average='weighted')}\")\n",
        "# print(f\"Recall: {metrics.recall_score(y_valid[L4], y_pred_L4,average='weighted')}\")"
      ]
    },
    {
      "cell_type": "markdown",
      "metadata": {
        "id": "IKUlesZJyaYR"
      },
      "source": [
        "## Feature Selection + Model Selection"
      ]
    },
    {
      "cell_type": "code",
      "execution_count": null,
      "metadata": {},
      "outputs": [],
      "source": [
        "pca = PCA(n_components = 0.97, svd_solver ='full')\n",
        "pca.fit(x_train[L4])\n",
        "x_train_trans_L4 = pd.DataFrame(pca.transform(x_train[L4]))\n",
        "x_valid_trans_L4 = pd.DataFrame(pca.transform(x_valid[L4]))\n",
        "x_test_trans_L4 = pd.DataFrame(pca.transform(x_test))"
      ]
    },
    {
      "cell_type": "code",
      "execution_count": null,
      "metadata": {},
      "outputs": [],
      "source": [
        "x_train_trans_L4.shape"
      ]
    },
    {
      "cell_type": "code",
      "execution_count": null,
      "metadata": {},
      "outputs": [],
      "source": [
        "# k_fold_cross_validation('svc', x_train_trans_L4, y_train[L4])\n",
        "# k_fold_cross_validation('kNN',x_train_trans_L4, y_train[L4])\n",
        "# k_fold_cross_validation('NBay',x_train_trans_L4, y_train[L4])\n",
        "# k_fold_cross_validation('RF',x_train_trans_L4, y_train[L4])"
      ]
    },
    {
      "cell_type": "code",
      "execution_count": null,
      "metadata": {
        "id": "kpRCQqTVyikB"
      },
      "outputs": [],
      "source": [
        "# clf = svm.SVC(class_weight='balanced')\n",
        "# clf.fit(x_train_trans_L4, y_train[L4])\n",
        "# y_pred_L4 = clf.predict(x_valid_trans_L4)\n"
      ]
    },
    {
      "cell_type": "code",
      "execution_count": null,
      "metadata": {
        "id": "UZJtE9qYykzu"
      },
      "outputs": [],
      "source": [
        "# print(\"========================= Acuuracy Before Hyper Parameter Tune Label 3 =========================\")\n",
        "# print(f\"Accuracy: {metrics.accuracy_score(y_valid[L4], y_pred_L4)}\")\n",
        "# print(f\"Precision: {metrics.precision_score(y_valid[L4], y_pred_L4, average='weighted')}\")\n",
        "# print(f\"Recall: {metrics.recall_score(y_valid[L4], y_pred_L4,average='weighted')}\")"
      ]
    },
    {
      "cell_type": "markdown",
      "metadata": {
        "id": "xXs1kUQGypMr"
      },
      "source": [
        "## Model Selection"
      ]
    },
    {
      "cell_type": "code",
      "execution_count": null,
      "metadata": {
        "id": "BJ5rgMaLywDu"
      },
      "outputs": [],
      "source": [
        "# k_fold_cross_validation('svc', x_train_trans_L4, y_train[L4])\n",
        "# k_fold_cross_validation('kNN', x_train_trans_L4, y_train[L4])"
      ]
    },
    {
      "cell_type": "markdown",
      "metadata": {
        "id": "Xbxflq3Zyyfs"
      },
      "source": [
        "## Hyper Parameter Tuning"
      ]
    },
    {
      "cell_type": "code",
      "execution_count": null,
      "metadata": {
        "id": "BJQ5GqKMy2Hj"
      },
      "outputs": [],
      "source": [
        "# # Define the kNN classifier\n",
        "knn = KNeighborsClassifier()\n",
        "\n",
        "# Define a random search space for hyperparameters\n",
        "param_dist = {\n",
        "    'n_neighbors': list(range(1, 31)),   # Number of neighbors to consider\n",
        "    'weights': ['uniform', 'distance'],  # Weighting scheme for neighbors\n",
        "    'p': [1, 2],                        # Minkowski distance parameter (1 for Manhattan, 2 for Euclidean)\n",
        "    'algorithm': ['auto', 'ball_tree', 'kd_tree', 'brute'],  # Algorithm for nearest neighbors\n",
        "}\n",
        "\n",
        "# Create a RandomizedSearchCV object\n",
        "random_search = RandomizedSearchCV(estimator=knn, param_distributions=param_dist, n_iter=10, cv=5, scoring='accuracy', n_jobs=-1, random_state=42)\n",
        "\n",
        "# Perform the random search on the training data\n",
        "random_search.fit(x_train_trans_L4, y_train[L4])\n",
        "\n",
        "# Print the best hyperparameters and the corresponding accuracy score\n",
        "print(\"Best Hyperparameters:\", random_search.best_params_)\n",
        "print(\"Best Accuracy Score:\", random_search.best_score_)\n",
        "\n",
        "# Get the best model with the best hyperparameters\n",
        "best_knn_L4 = random_search.best_estimator_"
      ]
    },
    {
      "cell_type": "code",
      "execution_count": null,
      "metadata": {},
      "outputs": [],
      "source": [
        "y_test_L4 = best_knn_L4.predict(x_test_trans_L4)"
      ]
    },
    {
      "cell_type": "code",
      "execution_count": null,
      "metadata": {
        "id": "qgzke0ndyw77"
      },
      "outputs": [],
      "source": [
        "# print(\"========================= Acuuracy After k fold Cross Validation and Hyper Parameter Tuning Label 3 =========================\")\n",
        "# print(f\"Accuracy: {metrics.accuracy_score(y_valid[L4], y_new_trans_L4)}\")\n",
        "# print(f\"Precision: {metrics.precision_score(y_valid[L4], y_new_trans_L4, average='weighted')}\")\n",
        "# print(f\"Recall: {metrics.recall_score(y_valid[L4], y_new_trans_L4,average='weighted')}\")"
      ]
    },
    {
      "cell_type": "markdown",
      "metadata": {},
      "source": [
        "# Result Writing"
      ]
    },
    {
      "cell_type": "code",
      "execution_count": null,
      "metadata": {},
      "outputs": [],
      "source": [
        "output_df = pd.DataFrame({\n",
        "    'ID': id_test,\n",
        "    'label_1': y_test_L1,\n",
        "    'label_2': y_test_L2,\n",
        "    'label_3': y_test_L3,\n",
        "    'label_4': y_test_L4\n",
        "})"
      ]
    },
    {
      "cell_type": "code",
      "execution_count": null,
      "metadata": {},
      "outputs": [],
      "source": [
        "# Save the DataFrame to the specified CSV file path\n",
        "output_df.to_csv(f\"output/UOM_190394R.csv\", index=False)"
      ]
    }
  ],
  "metadata": {
    "accelerator": "GPU",
    "colab": {
      "gpuType": "T4",
      "provenance": []
    },
    "kernelspec": {
      "display_name": "Python 3",
      "name": "python3"
    },
    "language_info": {
      "codemirror_mode": {
        "name": "ipython",
        "version": 3
      },
      "file_extension": ".py",
      "mimetype": "text/x-python",
      "name": "python",
      "nbconvert_exporter": "python",
      "pygments_lexer": "ipython3",
      "version": "3.11.0"
    }
  },
  "nbformat": 4,
  "nbformat_minor": 0
}
